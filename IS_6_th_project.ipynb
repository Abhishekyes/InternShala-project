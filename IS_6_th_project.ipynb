{
  "nbformat": 4,
  "nbformat_minor": 0,
  "metadata": {
    "colab": {
      "name": "IS-6 th project.ipynb",
      "provenance": [],
      "collapsed_sections": [
        "A9OR0mhpMR1E",
        "iHbZDVv0NZjt",
        "mBVMV5GsQlzi",
        "fOmUVcUnQ3yc",
        "9H0w3QuVRDYs",
        "iAlyzGH6RK9d",
        "lOshHDg5RZcB"
      ],
      "mount_file_id": "1U0q8JJLg9iMjcyP_Ls8uhK0cauxG92lo",
      "authorship_tag": "ABX9TyMbf/aeOcZcKRQdFN7HZckW",
      "include_colab_link": true
    },
    "kernelspec": {
      "name": "python3",
      "display_name": "Python 3"
    },
    "language_info": {
      "name": "python"
    }
  },
  "cells": [
    {
      "cell_type": "markdown",
      "metadata": {
        "id": "view-in-github",
        "colab_type": "text"
      },
      "source": [
        "<a href=\"https://colab.research.google.com/github/Abhishekyes/InternShala-project/blob/main/IS_6_th_project.ipynb\" target=\"_parent\"><img src=\"https://colab.research.google.com/assets/colab-badge.svg\" alt=\"Open In Colab\"/></a>"
      ]
    },
    {
      "cell_type": "code",
      "execution_count": null,
      "metadata": {
        "id": "TEAhFxc4hYyZ"
      },
      "outputs": [],
      "source": [
        "import pandas as pd\n",
        "import numpy as np                     # For mathematical calculations\n",
        "import seaborn as sns                  # For data visualization\n",
        "import matplotlib.pyplot as plt \n",
        "import seaborn as sn                   # For plotting graphs\n",
        "%matplotlib inline\n",
        "import warnings                        # To ignore any warnings\n",
        "warnings.filterwarnings(\"ignore\")"
      ]
    },
    {
      "cell_type": "code",
      "source": [
        "Data = pd.read_csv(\"/content/drive/MyDrive/Problem Statement (6)/train.csv\")"
      ],
      "metadata": {
        "id": "3xZ3MhwgGMx3"
      },
      "execution_count": null,
      "outputs": []
    },
    {
      "cell_type": "code",
      "source": [
        "data= Data.copy()"
      ],
      "metadata": {
        "id": "qv8Wpx5HGKta"
      },
      "execution_count": null,
      "outputs": []
    },
    {
      "cell_type": "code",
      "source": [
        "X= data.iloc[:,:-1]\n",
        "y = data.iloc[:,-1]"
      ],
      "metadata": {
        "id": "lMt1m_R9HyBa"
      },
      "execution_count": null,
      "outputs": []
    },
    {
      "cell_type": "code",
      "source": [
        "X.head(2)"
      ],
      "metadata": {
        "colab": {
          "base_uri": "https://localhost:8080/",
          "height": 176
        },
        "id": "GWt9cPldJCk0",
        "outputId": "10a9eee1-6945-4464-8eeb-62e1f5be0333"
      },
      "execution_count": null,
      "outputs": [
        {
          "output_type": "execute_result",
          "data": {
            "text/plain": [
              "      ID  age      job  marital  education default  balance housing loan  \\\n",
              "0  26110   56   admin.  married    unknown      no     1933      no   no   \n",
              "1  40576   31  unknown  married  secondary      no        3      no   no   \n",
              "\n",
              "     contact  day month  duration  campaign  pdays  previous poutcome  \n",
              "0  telephone   19   nov        44         2     -1         0  unknown  \n",
              "1   cellular   20   jul        91         2     -1         0  unknown  "
            ],
            "text/html": [
              "\n",
              "  <div id=\"df-2f3a5b0e-05b4-4a3c-90ab-145c0bb23ad9\">\n",
              "    <div class=\"colab-df-container\">\n",
              "      <div>\n",
              "<style scoped>\n",
              "    .dataframe tbody tr th:only-of-type {\n",
              "        vertical-align: middle;\n",
              "    }\n",
              "\n",
              "    .dataframe tbody tr th {\n",
              "        vertical-align: top;\n",
              "    }\n",
              "\n",
              "    .dataframe thead th {\n",
              "        text-align: right;\n",
              "    }\n",
              "</style>\n",
              "<table border=\"1\" class=\"dataframe\">\n",
              "  <thead>\n",
              "    <tr style=\"text-align: right;\">\n",
              "      <th></th>\n",
              "      <th>ID</th>\n",
              "      <th>age</th>\n",
              "      <th>job</th>\n",
              "      <th>marital</th>\n",
              "      <th>education</th>\n",
              "      <th>default</th>\n",
              "      <th>balance</th>\n",
              "      <th>housing</th>\n",
              "      <th>loan</th>\n",
              "      <th>contact</th>\n",
              "      <th>day</th>\n",
              "      <th>month</th>\n",
              "      <th>duration</th>\n",
              "      <th>campaign</th>\n",
              "      <th>pdays</th>\n",
              "      <th>previous</th>\n",
              "      <th>poutcome</th>\n",
              "    </tr>\n",
              "  </thead>\n",
              "  <tbody>\n",
              "    <tr>\n",
              "      <th>0</th>\n",
              "      <td>26110</td>\n",
              "      <td>56</td>\n",
              "      <td>admin.</td>\n",
              "      <td>married</td>\n",
              "      <td>unknown</td>\n",
              "      <td>no</td>\n",
              "      <td>1933</td>\n",
              "      <td>no</td>\n",
              "      <td>no</td>\n",
              "      <td>telephone</td>\n",
              "      <td>19</td>\n",
              "      <td>nov</td>\n",
              "      <td>44</td>\n",
              "      <td>2</td>\n",
              "      <td>-1</td>\n",
              "      <td>0</td>\n",
              "      <td>unknown</td>\n",
              "    </tr>\n",
              "    <tr>\n",
              "      <th>1</th>\n",
              "      <td>40576</td>\n",
              "      <td>31</td>\n",
              "      <td>unknown</td>\n",
              "      <td>married</td>\n",
              "      <td>secondary</td>\n",
              "      <td>no</td>\n",
              "      <td>3</td>\n",
              "      <td>no</td>\n",
              "      <td>no</td>\n",
              "      <td>cellular</td>\n",
              "      <td>20</td>\n",
              "      <td>jul</td>\n",
              "      <td>91</td>\n",
              "      <td>2</td>\n",
              "      <td>-1</td>\n",
              "      <td>0</td>\n",
              "      <td>unknown</td>\n",
              "    </tr>\n",
              "  </tbody>\n",
              "</table>\n",
              "</div>\n",
              "      <button class=\"colab-df-convert\" onclick=\"convertToInteractive('df-2f3a5b0e-05b4-4a3c-90ab-145c0bb23ad9')\"\n",
              "              title=\"Convert this dataframe to an interactive table.\"\n",
              "              style=\"display:none;\">\n",
              "        \n",
              "  <svg xmlns=\"http://www.w3.org/2000/svg\" height=\"24px\"viewBox=\"0 0 24 24\"\n",
              "       width=\"24px\">\n",
              "    <path d=\"M0 0h24v24H0V0z\" fill=\"none\"/>\n",
              "    <path d=\"M18.56 5.44l.94 2.06.94-2.06 2.06-.94-2.06-.94-.94-2.06-.94 2.06-2.06.94zm-11 1L8.5 8.5l.94-2.06 2.06-.94-2.06-.94L8.5 2.5l-.94 2.06-2.06.94zm10 10l.94 2.06.94-2.06 2.06-.94-2.06-.94-.94-2.06-.94 2.06-2.06.94z\"/><path d=\"M17.41 7.96l-1.37-1.37c-.4-.4-.92-.59-1.43-.59-.52 0-1.04.2-1.43.59L10.3 9.45l-7.72 7.72c-.78.78-.78 2.05 0 2.83L4 21.41c.39.39.9.59 1.41.59.51 0 1.02-.2 1.41-.59l7.78-7.78 2.81-2.81c.8-.78.8-2.07 0-2.86zM5.41 20L4 18.59l7.72-7.72 1.47 1.35L5.41 20z\"/>\n",
              "  </svg>\n",
              "      </button>\n",
              "      \n",
              "  <style>\n",
              "    .colab-df-container {\n",
              "      display:flex;\n",
              "      flex-wrap:wrap;\n",
              "      gap: 12px;\n",
              "    }\n",
              "\n",
              "    .colab-df-convert {\n",
              "      background-color: #E8F0FE;\n",
              "      border: none;\n",
              "      border-radius: 50%;\n",
              "      cursor: pointer;\n",
              "      display: none;\n",
              "      fill: #1967D2;\n",
              "      height: 32px;\n",
              "      padding: 0 0 0 0;\n",
              "      width: 32px;\n",
              "    }\n",
              "\n",
              "    .colab-df-convert:hover {\n",
              "      background-color: #E2EBFA;\n",
              "      box-shadow: 0px 1px 2px rgba(60, 64, 67, 0.3), 0px 1px 3px 1px rgba(60, 64, 67, 0.15);\n",
              "      fill: #174EA6;\n",
              "    }\n",
              "\n",
              "    [theme=dark] .colab-df-convert {\n",
              "      background-color: #3B4455;\n",
              "      fill: #D2E3FC;\n",
              "    }\n",
              "\n",
              "    [theme=dark] .colab-df-convert:hover {\n",
              "      background-color: #434B5C;\n",
              "      box-shadow: 0px 1px 3px 1px rgba(0, 0, 0, 0.15);\n",
              "      filter: drop-shadow(0px 1px 2px rgba(0, 0, 0, 0.3));\n",
              "      fill: #FFFFFF;\n",
              "    }\n",
              "  </style>\n",
              "\n",
              "      <script>\n",
              "        const buttonEl =\n",
              "          document.querySelector('#df-2f3a5b0e-05b4-4a3c-90ab-145c0bb23ad9 button.colab-df-convert');\n",
              "        buttonEl.style.display =\n",
              "          google.colab.kernel.accessAllowed ? 'block' : 'none';\n",
              "\n",
              "        async function convertToInteractive(key) {\n",
              "          const element = document.querySelector('#df-2f3a5b0e-05b4-4a3c-90ab-145c0bb23ad9');\n",
              "          const dataTable =\n",
              "            await google.colab.kernel.invokeFunction('convertToInteractive',\n",
              "                                                     [key], {});\n",
              "          if (!dataTable) return;\n",
              "\n",
              "          const docLinkHtml = 'Like what you see? Visit the ' +\n",
              "            '<a target=\"_blank\" href=https://colab.research.google.com/notebooks/data_table.ipynb>data table notebook</a>'\n",
              "            + ' to learn more about interactive tables.';\n",
              "          element.innerHTML = '';\n",
              "          dataTable['output_type'] = 'display_data';\n",
              "          await google.colab.output.renderOutput(dataTable, element);\n",
              "          const docLink = document.createElement('div');\n",
              "          docLink.innerHTML = docLinkHtml;\n",
              "          element.appendChild(docLink);\n",
              "        }\n",
              "      </script>\n",
              "    </div>\n",
              "  </div>\n",
              "  "
            ]
          },
          "metadata": {},
          "execution_count": 241
        }
      ]
    },
    {
      "cell_type": "code",
      "source": [
        "data['contact'].value_counts()"
      ],
      "metadata": {
        "colab": {
          "base_uri": "https://localhost:8080/"
        },
        "id": "tH2Bs2S2G47B",
        "outputId": "1b50c9a2-b8eb-447d-c731-da9ae23a39dc"
      },
      "execution_count": null,
      "outputs": [
        {
          "output_type": "execute_result",
          "data": {
            "text/plain": [
              "cellular     20423\n",
              "unknown       9177\n",
              "telephone     2047\n",
              "Name: contact, dtype: int64"
            ]
          },
          "metadata": {},
          "execution_count": 242
        }
      ]
    },
    {
      "cell_type": "code",
      "source": [
        "data['default'].value_counts()"
      ],
      "metadata": {
        "colab": {
          "base_uri": "https://localhost:8080/"
        },
        "id": "V-rz3aWSGd1p",
        "outputId": "b3fdfe40-b080-41bf-bf23-e07130d429da"
      },
      "execution_count": null,
      "outputs": [
        {
          "output_type": "execute_result",
          "data": {
            "text/plain": [
              "no     31062\n",
              "yes      585\n",
              "Name: default, dtype: int64"
            ]
          },
          "metadata": {},
          "execution_count": 243
        }
      ]
    },
    {
      "cell_type": "code",
      "source": [
        "data['marital'].value_counts()"
      ],
      "metadata": {
        "colab": {
          "base_uri": "https://localhost:8080/"
        },
        "id": "OlFvd0_oGmDH",
        "outputId": "961566de-1b99-4b84-a8d9-543f543e12b2"
      },
      "execution_count": null,
      "outputs": [
        {
          "output_type": "execute_result",
          "data": {
            "text/plain": [
              "married     19095\n",
              "single       8922\n",
              "divorced     3630\n",
              "Name: marital, dtype: int64"
            ]
          },
          "metadata": {},
          "execution_count": 244
        }
      ]
    },
    {
      "cell_type": "code",
      "source": [
        "data['education'].value_counts()"
      ],
      "metadata": {
        "colab": {
          "base_uri": "https://localhost:8080/"
        },
        "id": "8q3qIlE6Gq6o",
        "outputId": "a785dc34-d7f7-4786-e30b-7d2c101d9139"
      },
      "execution_count": null,
      "outputs": [
        {
          "output_type": "execute_result",
          "data": {
            "text/plain": [
              "secondary    16224\n",
              "tertiary      9301\n",
              "primary       4808\n",
              "unknown       1314\n",
              "Name: education, dtype: int64"
            ]
          },
          "metadata": {},
          "execution_count": 245
        }
      ]
    },
    {
      "cell_type": "code",
      "source": [
        "data.hist(bins =50,figsize =(15,10))"
      ],
      "metadata": {
        "colab": {
          "base_uri": "https://localhost:8080/",
          "height": 617
        },
        "id": "E9O2LZHHJYXl",
        "outputId": "ba398d3f-99dd-4583-ab27-ddaf219bed49"
      },
      "execution_count": null,
      "outputs": [
        {
          "output_type": "execute_result",
          "data": {
            "text/plain": [
              "array([[<matplotlib.axes._subplots.AxesSubplot object at 0x7fa014c95390>,\n",
              "        <matplotlib.axes._subplots.AxesSubplot object at 0x7fa014c97c50>,\n",
              "        <matplotlib.axes._subplots.AxesSubplot object at 0x7fa014bf4710>],\n",
              "       [<matplotlib.axes._subplots.AxesSubplot object at 0x7fa014baad10>,\n",
              "        <matplotlib.axes._subplots.AxesSubplot object at 0x7fa014b6e350>,\n",
              "        <matplotlib.axes._subplots.AxesSubplot object at 0x7fa014ba4950>],\n",
              "       [<matplotlib.axes._subplots.AxesSubplot object at 0x7fa014b5bfd0>,\n",
              "        <matplotlib.axes._subplots.AxesSubplot object at 0x7fa014b1f550>,\n",
              "        <matplotlib.axes._subplots.AxesSubplot object at 0x7fa014b1f590>]],\n",
              "      dtype=object)"
            ]
          },
          "metadata": {},
          "execution_count": 246
        },
        {
          "output_type": "display_data",
          "data": {
            "text/plain": [
              "<Figure size 1080x720 with 9 Axes>"
            ],
            "image/png": "[encoded data removed]"
          },
          "metadata": {
            "needs_background": "light"
          }
        }
      ]
    },
    {
      "cell_type": "markdown",
      "source": [
        "its show age value is mid of 20-60 which most of client fall in group"
      ],
      "metadata": {
        "id": "F0w1PG3iJqDx"
      }
    },
    {
      "cell_type": "code",
      "source": [
        "data['job'].value_counts().plot.bar()"
      ],
      "metadata": {
        "colab": {
          "base_uri": "https://localhost:8080/",
          "height": 344
        },
        "id": "5IaqUQAXGvhk",
        "outputId": "6da734be-25aa-4abf-d2af-f3f7ed6b8677"
      },
      "execution_count": null,
      "outputs": [
        {
          "output_type": "execute_result",
          "data": {
            "text/plain": [
              "<matplotlib.axes._subplots.AxesSubplot at 0x7fa0147e0790>"
            ]
          },
          "metadata": {},
          "execution_count": 247
        },
        {
          "output_type": "display_data",
          "data": {
            "text/plain": [
              "<Figure size 432x288 with 1 Axes>"
            ],
            "image/png": "[encoded data removed]"
          },
          "metadata": {
            "needs_background": "light"
          }
        }
      ]
    },
    {
      "cell_type": "markdown",
      "source": [
        "blue caller job has higher client .at student is least in number ."
      ],
      "metadata": {
        "id": "MZss3J-iJ5dI"
      }
    },
    {
      "cell_type": "code",
      "source": [
        "data['default'].value_counts().plot.bar()"
      ],
      "metadata": {
        "colab": {
          "base_uri": "https://localhost:8080/",
          "height": 291
        },
        "id": "qD4HG7b9J2ke",
        "outputId": "46f3fd4f-cddf-47ea-c1d7-9ae9b3797747"
      },
      "execution_count": null,
      "outputs": [
        {
          "output_type": "execute_result",
          "data": {
            "text/plain": [
              "<matplotlib.axes._subplots.AxesSubplot at 0x7fa014866090>"
            ]
          },
          "metadata": {},
          "execution_count": 248
        },
        {
          "output_type": "display_data",
          "data": {
            "text/plain": [
              "<Figure size 432x288 with 1 Axes>"
            ],
            "image/png": "[encoded data removed]"
          },
          "metadata": {
            "needs_background": "light"
          }
        }
      ]
    },
    {
      "cell_type": "markdown",
      "source": [
        "<90% client no default history . "
      ],
      "metadata": {
        "id": "kQx8AQfpKO3q"
      }
    },
    {
      "cell_type": "code",
      "source": [
        "print(pd.crosstab(data['job'],data['subscribed']))\n",
        "\n",
        "job=pd.crosstab(data['job'],data['subscribed'])\n",
        "job.div(job.sum(1).astype(float), axis=0).plot(kind=\"bar\", stacked=True, figsize=(8,8))\n",
        "plt.xlabel('Job')\n",
        "plt.ylabel('Percentage')"
      ],
      "metadata": {
        "colab": {
          "base_uri": "https://localhost:8080/",
          "height": 834
        },
        "id": "5gJuTSoHKNKu",
        "outputId": "e36ffa43-6ab2-4173-de81-f80383899aaf"
      },
      "execution_count": null,
      "outputs": [
        {
          "output_type": "stream",
          "name": "stdout",
          "text": [
            "subscribed       no  yes\n",
            "job                     \n",
            "admin.         3179  452\n",
            "blue-collar    6353  489\n",
            "entrepreneur    923   85\n",
            "housemaid       795   79\n",
            "management     5716  923\n",
            "retired        1212  362\n",
            "self-employed   983  140\n",
            "services       2649  254\n",
            "student         453  182\n",
            "technician     4713  594\n",
            "unemployed      776  129\n",
            "unknown         180   26\n"
          ]
        },
        {
          "output_type": "execute_result",
          "data": {
            "text/plain": [
              "Text(0, 0.5, 'Percentage')"
            ]
          },
          "metadata": {},
          "execution_count": 249
        },
        {
          "output_type": "display_data",
          "data": {
            "text/plain": [
              "<Figure size 576x576 with 1 Axes>"
            ],
            "image/png": "[encoded data removed]"
          },
          "metadata": {
            "needs_background": "light"
          }
        }
      ]
    },
    {
      "cell_type": "markdown",
      "source": [
        "student and retired people high chance to subscribe to team deposite. but generallu student do not subscribe to team deposite ther is possible if the number of student data is less comperitively to other job ."
      ],
      "metadata": {
        "id": "T6oLdz2FK4ov"
      }
    },
    {
      "cell_type": "code",
      "source": [
        "print(pd.crosstab(data['default'],data['subscribed']))\n",
        "\n",
        "default=pd.crosstab(data['default'],data['subscribed'])\n",
        "default.div(default.sum(1).astype(float), axis=0).plot(kind=\"bar\", stacked=True, figsize=(8,8))\n",
        "plt.xlabel('default')\n",
        "plt.ylabel('Percentage')"
      ],
      "metadata": {
        "colab": {
          "base_uri": "https://localhost:8080/",
          "height": 596
        },
        "id": "phsJXB-5Kd2W",
        "outputId": "8be1b33a-cd22-4f40-d6ab-3d4531c55fcf"
      },
      "execution_count": null,
      "outputs": [
        {
          "output_type": "stream",
          "name": "stdout",
          "text": [
            "subscribed     no   yes\n",
            "default                \n",
            "no          27388  3674\n",
            "yes           544    41\n"
          ]
        },
        {
          "output_type": "execute_result",
          "data": {
            "text/plain": [
              "Text(0, 0.5, 'Percentage')"
            ]
          },
          "metadata": {},
          "execution_count": 250
        },
        {
          "output_type": "display_data",
          "data": {
            "text/plain": [
              "<Figure size 576x576 with 1 Axes>"
            ],
            "image/png": "[encoded data removed]"
          },
          "metadata": {
            "needs_background": "light"
          }
        }
      ]
    },
    {
      "cell_type": "markdown",
      "source": [
        "there show this graph who having no previous default have slighlty chances of subscribing to team loan as compare to client who have previous default history."
      ],
      "metadata": {
        "id": "LHMB9hogLHua"
      }
    },
    {
      "cell_type": "code",
      "source": [
        "data['subscribed'].replace('no',0,inplace=True)\n",
        "data['subscribed'].replace('yes',1,inplace=True)"
      ],
      "metadata": {
        "id": "F_GxcvLbLEl5"
      },
      "execution_count": null,
      "outputs": []
    },
    {
      "cell_type": "code",
      "source": [
        "corr = data.corr()\n",
        "mask = np.array(corr)\n",
        "mask[np.tril_indices_from(mask)] = False\n",
        "fig,ax= plt.subplots()\n",
        "fig.set_size_inches(20,10)\n",
        "sn.heatmap(corr, mask=mask,vmax=.9, square=True,annot=True, cmap=\"YlGnBu\")"
      ],
      "metadata": {
        "colab": {
          "base_uri": "https://localhost:8080/",
          "height": 568
        },
        "id": "4IUEFzpqLpbx",
        "outputId": "4aedf692-5c36-431c-848f-94440ad1fd68"
      },
      "execution_count": null,
      "outputs": [
        {
          "output_type": "execute_result",
          "data": {
            "text/plain": [
              "<matplotlib.axes._subplots.AxesSubplot at 0x7fa01420a550>"
            ]
          },
          "metadata": {},
          "execution_count": 252
        },
        {
          "output_type": "display_data",
          "data": {
            "text/plain": [
              "<Figure size 1440x720 with 2 Axes>"
            ],
            "image/png": "[encoded data removed]"
          },
          "metadata": {
            "needs_background": "light"
          }
        }
      ]
    },
    {
      "cell_type": "markdown",
      "source": [
        "duration of call is high corelated to the subscribing. increase duration of call than incrase the show intrest in team of deposit and high chances client will subscribe to deposite team."
      ],
      "metadata": {
        "id": "rza2Lnw9L1K0"
      }
    },
    {
      "cell_type": "markdown",
      "source": [
        "# MODEK BUILDING"
      ],
      "metadata": {
        "id": "A9OR0mhpMR1E"
      }
    },
    {
      "cell_type": "code",
      "source": [
        "x= data.iloc[:,:-1]\n",
        "y = data.iloc[:,-1]"
      ],
      "metadata": {
        "id": "Do3UsFvwLzk1"
      },
      "execution_count": null,
      "outputs": []
    },
    {
      "cell_type": "code",
      "source": [
        "X = pd.get_dummies(x)"
      ],
      "metadata": {
        "id": "BL5hDTNTMah7"
      },
      "execution_count": null,
      "outputs": []
    },
    {
      "cell_type": "code",
      "source": [
        "Y = y.values.reshape(len(y),1)"
      ],
      "metadata": {
        "id": "dbS--SLTO_Vm"
      },
      "execution_count": null,
      "outputs": []
    },
    {
      "cell_type": "code",
      "source": [
        "from sklearn.model_selection import train_test_split\n",
        "X_train,X_test,y_train,y_test = train_test_split(X,y,test_size =0.2,random_state = 10)"
      ],
      "metadata": {
        "id": "OS06ESC8Mo14"
      },
      "execution_count": null,
      "outputs": []
    },
    {
      "cell_type": "markdown",
      "source": [
        "### Logistic Regressor"
      ],
      "metadata": {
        "id": "iHbZDVv0NZjt"
      }
    },
    {
      "cell_type": "code",
      "source": [
        "from sklearn.pipeline import Pipeline\n",
        "from sklearn.preprocessing import StandardScaler\n",
        "from sklearn.linear_model import LogisticRegression\n",
        "\n",
        "pipeline_lr = Pipeline([('Scaleing',StandardScaler()),\n",
        "                        ('lr_classifier',LogisticRegression(random_state =0))])"
      ],
      "metadata": {
        "id": "XF4193BiNWlT"
      },
      "execution_count": null,
      "outputs": []
    },
    {
      "cell_type": "code",
      "source": [
        "pipeline_lr.fit(X_train,y_train)"
      ],
      "metadata": {
        "colab": {
          "base_uri": "https://localhost:8080/"
        },
        "id": "EHfbKpZ6Na-t",
        "outputId": "363ffbbe-1ded-4d94-860f-f93778d0a2af"
      },
      "execution_count": null,
      "outputs": [
        {
          "output_type": "execute_result",
          "data": {
            "text/plain": [
              "Pipeline(steps=[('Scaleing', StandardScaler()),\n",
              "                ('lr_classifier', LogisticRegression(random_state=0))])"
            ]
          },
          "metadata": {},
          "execution_count": 258
        }
      ]
    },
    {
      "cell_type": "code",
      "source": [
        "Y = y_test.values.reshape(len(y_test),1)"
      ],
      "metadata": {
        "id": "NtXNndhhQBhB"
      },
      "execution_count": null,
      "outputs": []
    },
    {
      "cell_type": "code",
      "source": [
        "y_pred = pipeline_lr.predict(X_test)\n",
        "print(np.concatenate((y_pred.reshape(len(y_pred),1),Y),1))"
      ],
      "metadata": {
        "colab": {
          "base_uri": "https://localhost:8080/"
        },
        "id": "KC3Qz-jjNc8Y",
        "outputId": "40823dfc-21a0-4079-fc13-17b75eec8067"
      },
      "execution_count": null,
      "outputs": [
        {
          "output_type": "stream",
          "name": "stdout",
          "text": [
            "[[0 1]\n",
            " [0 0]\n",
            " [0 0]\n",
            " ...\n",
            " [0 0]\n",
            " [0 0]\n",
            " [0 0]]\n"
          ]
        }
      ]
    },
    {
      "cell_type": "code",
      "source": [
        "from sklearn.metrics import confusion_matrix, accuracy_score\n",
        "cm = confusion_matrix(y_test,y_pred)\n",
        "print(cm)\n",
        "accuracy_score(y_test,y_pred)*100"
      ],
      "metadata": {
        "colab": {
          "base_uri": "https://localhost:8080/"
        },
        "id": "3-jkBD12NeiJ",
        "outputId": "dcce9be5-24e9-40f6-dbe9-73d0f04c7b5e"
      },
      "execution_count": null,
      "outputs": [
        {
          "output_type": "stream",
          "name": "stdout",
          "text": [
            "[[5469  117]\n",
            " [ 458  286]]\n"
          ]
        },
        {
          "output_type": "execute_result",
          "data": {
            "text/plain": [
              "90.91627172195894"
            ]
          },
          "metadata": {},
          "execution_count": 261
        }
      ]
    },
    {
      "cell_type": "code",
      "source": [
        "from sklearn.model_selection import cross_val_score\n",
        "def acc_scores(reg,independent,dependent):\n",
        "  accuracies = cross_val_score(reg, independent, dependent, cv = 10, n_jobs =-1)\n",
        "  print('scores:',accuracies)\n",
        "  print('k-fold accuracy:{:.2f}%'.format(accuracies.mean()*100))\n",
        "  print(\"standard Deviation:{:.2f}%\".format(accuracies.std()*100))"
      ],
      "metadata": {
        "id": "L7hsKh90QZ-C"
      },
      "execution_count": null,
      "outputs": []
    },
    {
      "cell_type": "code",
      "source": [
        "acc_scores(pipeline_lr,X_train,y_train)"
      ],
      "metadata": {
        "colab": {
          "base_uri": "https://localhost:8080/"
        },
        "id": "jQOOKiVYQjIq",
        "outputId": "2cfeccf3-83f5-4631-f05f-09bcdf56f4e2"
      },
      "execution_count": null,
      "outputs": [
        {
          "output_type": "stream",
          "name": "stdout",
          "text": [
            "scores: [0.90837283 0.90718799 0.90402844 0.8992891  0.90718799 0.89178515\n",
            " 0.90442338 0.8972738  0.90320032 0.90715132]\n",
            "k-fold accuracy:90.30%\n",
            "standard Deviation:0.51%\n"
          ]
        }
      ]
    },
    {
      "cell_type": "markdown",
      "source": [
        "###Decision Tree Classifier"
      ],
      "metadata": {
        "id": "mBVMV5GsQlzi"
      }
    },
    {
      "cell_type": "code",
      "source": [
        "from sklearn.tree  import DecisionTreeClassifier\n",
        "pipeline_dt = Pipeline([('Scaleing', StandardScaler()),\n",
        "                        ('Dictree_Classifier', DecisionTreeClassifier(random_state =0,\n",
        "                                                                     criterion= 'entropy' ))])"
      ],
      "metadata": {
        "id": "i9h8WDNmQlUr"
      },
      "execution_count": null,
      "outputs": []
    },
    {
      "cell_type": "code",
      "source": [
        "pipeline_dt.fit(X_train,y_train)"
      ],
      "metadata": {
        "colab": {
          "base_uri": "https://localhost:8080/"
        },
        "id": "ozL1YZygQxL5",
        "outputId": "50d06640-f6ac-4c44-b971-cfaafa04404c"
      },
      "execution_count": null,
      "outputs": [
        {
          "output_type": "execute_result",
          "data": {
            "text/plain": [
              "Pipeline(steps=[('Scaleing', StandardScaler()),\n",
              "                ('Dictree_Classifier',\n",
              "                 DecisionTreeClassifier(criterion='entropy', random_state=0))])"
            ]
          },
          "metadata": {},
          "execution_count": 265
        }
      ]
    },
    {
      "cell_type": "code",
      "source": [
        "y_pred_cc = pipeline_dt.predict(X_test)\n",
        "from sklearn.metrics import confusion_matrix, accuracy_score\n",
        "cm = confusion_matrix(y_test,y_pred)\n",
        "print(cm)\n",
        "accuracy_score(y_test,y_pred_cc)*100"
      ],
      "metadata": {
        "colab": {
          "base_uri": "https://localhost:8080/"
        },
        "id": "hM5QMQKkQxJ7",
        "outputId": "047eab8a-fa24-4715-f2ce-a0e5cebffcdd"
      },
      "execution_count": null,
      "outputs": [
        {
          "output_type": "stream",
          "name": "stdout",
          "text": [
            "[[5469  117]\n",
            " [ 458  286]]\n"
          ]
        },
        {
          "output_type": "execute_result",
          "data": {
            "text/plain": [
              "88.95734597156398"
            ]
          },
          "metadata": {},
          "execution_count": 266
        }
      ]
    },
    {
      "cell_type": "code",
      "source": [
        "acc_scores(pipeline_dt,X_train,y_train)"
      ],
      "metadata": {
        "colab": {
          "base_uri": "https://localhost:8080/"
        },
        "id": "Sc2LA-L6QxH8",
        "outputId": "b52589fe-bdef-42c3-ae30-1a96448e74f1"
      },
      "execution_count": null,
      "outputs": [
        {
          "output_type": "stream",
          "name": "stdout",
          "text": [
            "scores: [0.89415482 0.89336493 0.88112164 0.87598736 0.89139021 0.88586098\n",
            " 0.89060032 0.88423548 0.87712367 0.88581588]\n",
            "k-fold accuracy:88.60%\n",
            "standard Deviation:0.61%\n"
          ]
        }
      ]
    },
    {
      "cell_type": "code",
      "source": [
        "y_pred_cc=pipeline_dt.predict(X)"
      ],
      "metadata": {
        "id": "BGYZIc3TQxGC"
      },
      "execution_count": null,
      "outputs": []
    },
    {
      "cell_type": "markdown",
      "source": [
        "###Random Forest Classifier\n"
      ],
      "metadata": {
        "id": "fOmUVcUnQ3yc"
      }
    },
    {
      "cell_type": "code",
      "source": [
        "from sklearn.ensemble import RandomForestClassifier\n",
        "pipeline_rf = Pipeline([('scaleing',StandardScaler()),\n",
        "                        ('Rantree_classifier',RandomForestClassifier(random_state =0, criterion = 'entropy'))])"
      ],
      "metadata": {
        "id": "bwMlGZZXQxD_"
      },
      "execution_count": null,
      "outputs": []
    },
    {
      "cell_type": "code",
      "source": [
        "pipeline_rf.fit(X_train,y_train)"
      ],
      "metadata": {
        "colab": {
          "base_uri": "https://localhost:8080/"
        },
        "id": "WuMFXDrHQxCF",
        "outputId": "d0778533-630b-46f9-882a-94209dcc0346"
      },
      "execution_count": null,
      "outputs": [
        {
          "output_type": "execute_result",
          "data": {
            "text/plain": [
              "Pipeline(steps=[('scaleing', StandardScaler()),\n",
              "                ('Rantree_classifier',\n",
              "                 RandomForestClassifier(criterion='entropy', random_state=0))])"
            ]
          },
          "metadata": {},
          "execution_count": 270
        }
      ]
    },
    {
      "cell_type": "code",
      "source": [
        "y_pred_=pipeline_rf.predict(X_test)\n",
        "from sklearn.metrics import confusion_matrix, accuracy_score\n",
        "cm = confusion_matrix(y_test, y_pred)\n",
        "print(cm)\n",
        "accuracy_score(y_test,y_pred)*100"
      ],
      "metadata": {
        "colab": {
          "base_uri": "https://localhost:8080/"
        },
        "id": "4qg0DBb0QxAH",
        "outputId": "c5292e66-ae29-4a8a-e69c-1e823b960d4b"
      },
      "execution_count": null,
      "outputs": [
        {
          "output_type": "stream",
          "name": "stdout",
          "text": [
            "[[5469  117]\n",
            " [ 458  286]]\n"
          ]
        },
        {
          "output_type": "execute_result",
          "data": {
            "text/plain": [
              "90.91627172195894"
            ]
          },
          "metadata": {},
          "execution_count": 271
        }
      ]
    },
    {
      "cell_type": "code",
      "source": [
        "acc_scores(pipeline_rf, X_train, y_train)"
      ],
      "metadata": {
        "colab": {
          "base_uri": "https://localhost:8080/"
        },
        "id": "i2kGxTvtQw9_",
        "outputId": "4a396bc3-2187-4fee-b7e2-59228db97912"
      },
      "execution_count": null,
      "outputs": [
        {
          "output_type": "stream",
          "name": "stdout",
          "text": [
            "scores: [0.91469194 0.90205371 0.90521327 0.90521327 0.91627172 0.90837283\n",
            " 0.91232227 0.90003951 0.91070723 0.90952193]\n",
            "k-fold accuracy:90.84%\n",
            "standard Deviation:0.50%\n"
          ]
        }
      ]
    },
    {
      "cell_type": "markdown",
      "source": [
        "its highest accuracy 90.9162"
      ],
      "metadata": {
        "id": "g30C2w9SWqjL"
      }
    },
    {
      "cell_type": "markdown",
      "source": [
        "###K-NN"
      ],
      "metadata": {
        "id": "9H0w3QuVRDYs"
      }
    },
    {
      "cell_type": "code",
      "source": [
        "from sklearn.neighbors import KNeighborsClassifier\n",
        "pipeline_knn = Pipeline([('Scaleing',StandardScaler()),\n",
        "                         ('KNN',KNeighborsClassifier(n_neighbors=5,metric ='minkowski',p = 2))])"
      ],
      "metadata": {
        "id": "SHGK_Pg3Qw71"
      },
      "execution_count": null,
      "outputs": []
    },
    {
      "cell_type": "code",
      "source": [
        "pipeline_knn.fit(X_train,y_train)"
      ],
      "metadata": {
        "colab": {
          "base_uri": "https://localhost:8080/"
        },
        "id": "RffHj24ZRGu_",
        "outputId": "19ec57e2-51fe-404f-b095-cad4e5f1b581"
      },
      "execution_count": null,
      "outputs": [
        {
          "output_type": "execute_result",
          "data": {
            "text/plain": [
              "Pipeline(steps=[('Scaleing', StandardScaler()),\n",
              "                ('KNN', KNeighborsClassifier())])"
            ]
          },
          "metadata": {},
          "execution_count": 274
        }
      ]
    },
    {
      "cell_type": "code",
      "source": [
        "y_pred = pipeline_knn.predict(X_test)\n",
        "from sklearn.metrics import confusion_matrix, accuracy_score\n",
        "cm = confusion_matrix(y_test,y_pred)\n",
        "print(cm)\n",
        "accuracy_score(y_test,y_pred)*100"
      ],
      "metadata": {
        "colab": {
          "base_uri": "https://localhost:8080/"
        },
        "id": "hLE-8JhWRGsw",
        "outputId": "138d6d62-55b9-478e-9e0f-8a5b44bd25c3"
      },
      "execution_count": null,
      "outputs": [
        {
          "output_type": "stream",
          "name": "stdout",
          "text": [
            "[[5420  166]\n",
            " [ 504  240]]\n"
          ]
        },
        {
          "output_type": "execute_result",
          "data": {
            "text/plain": [
              "89.41548183254343"
            ]
          },
          "metadata": {},
          "execution_count": 275
        }
      ]
    },
    {
      "cell_type": "code",
      "source": [
        "acc_scores(pipeline_knn,X_train,y_train)"
      ],
      "metadata": {
        "colab": {
          "base_uri": "https://localhost:8080/"
        },
        "id": "Tge20voHRGqc",
        "outputId": "dbd6dc54-a290-4d35-e44c-b8a2c2920e72"
      },
      "execution_count": null,
      "outputs": [
        {
          "output_type": "stream",
          "name": "stdout",
          "text": [
            "scores: [0.89454976 0.89296998 0.88625592 0.89415482 0.89494471 0.88388626\n",
            " 0.89099526 0.88779139 0.89134729 0.88976689]\n",
            "k-fold accuracy:89.07%\n",
            "standard Deviation:0.35%\n"
          ]
        }
      ]
    },
    {
      "cell_type": "markdown",
      "source": [
        "### SVM"
      ],
      "metadata": {
        "id": "iAlyzGH6RK9d"
      }
    },
    {
      "cell_type": "code",
      "source": [
        "from sklearn.svm import SVC\n",
        "pipeline_svm = Pipeline([('Scaleing',StandardScaler()),\n",
        "                         ('svm',SVC(kernel='linear',random_state =0))])"
      ],
      "metadata": {
        "id": "PhoNwiG0RGoS"
      },
      "execution_count": null,
      "outputs": []
    },
    {
      "cell_type": "code",
      "source": [
        "pipeline_svm.fit(X_train,y_train)"
      ],
      "metadata": {
        "colab": {
          "base_uri": "https://localhost:8080/"
        },
        "id": "I2ReP1mBRGl4",
        "outputId": "3d8e0aa1-db91-45d1-d5a2-a6c6b19c08d8"
      },
      "execution_count": null,
      "outputs": [
        {
          "output_type": "execute_result",
          "data": {
            "text/plain": [
              "Pipeline(steps=[('Scaleing', StandardScaler()),\n",
              "                ('svm', SVC(kernel='linear', random_state=0))])"
            ]
          },
          "metadata": {},
          "execution_count": 278
        }
      ]
    },
    {
      "cell_type": "code",
      "source": [
        "y_pred=pipeline_svm.predict(X_test)\n",
        "from sklearn.metrics import confusion_matrix,accuracy_score\n",
        "cm = confusion_matrix(y_test,y_pred)\n",
        "print(cm)\n",
        "accuracy_score(y_test,y_pred)*100"
      ],
      "metadata": {
        "colab": {
          "base_uri": "https://localhost:8080/"
        },
        "id": "7dmcadH7RGjM",
        "outputId": "e59ac00f-7d05-4367-de87-c6b4b84a09ba"
      },
      "execution_count": null,
      "outputs": [
        {
          "output_type": "stream",
          "name": "stdout",
          "text": [
            "[[5489   97]\n",
            " [ 558  186]]\n"
          ]
        },
        {
          "output_type": "execute_result",
          "data": {
            "text/plain": [
              "89.65244865718799"
            ]
          },
          "metadata": {},
          "execution_count": 279
        }
      ]
    },
    {
      "cell_type": "code",
      "source": [
        "acc_scores(pipeline_svm,X_train,y_train)"
      ],
      "metadata": {
        "colab": {
          "base_uri": "https://localhost:8080/"
        },
        "id": "81PQVlQNRGfO",
        "outputId": "ac63bc17-d30b-442b-eb0e-fc86191d6cd9"
      },
      "execution_count": null,
      "outputs": [
        {
          "output_type": "stream",
          "name": "stdout",
          "text": [
            "scores: [0.89968404 0.89652449 0.89375987 0.89099526 0.8957346  0.88823065\n",
            " 0.89178515 0.8972738  0.894113   0.89885421]\n",
            "k-fold accuracy:89.47%\n",
            "standard Deviation:0.34%\n"
          ]
        }
      ]
    },
    {
      "cell_type": "code",
      "source": [
        ""
      ],
      "metadata": {
        "id": "78sGiAwXRYvo"
      },
      "execution_count": null,
      "outputs": []
    },
    {
      "cell_type": "markdown",
      "source": [
        "###Naive base"
      ],
      "metadata": {
        "id": "lOshHDg5RZcB"
      }
    },
    {
      "cell_type": "code",
      "source": [
        "from sklearn.naive_bayes import GaussianNB\n",
        "pipeline_nb = Pipeline([('Scaling',StandardScaler()),\n",
        "                        ('nb',GaussianNB())])"
      ],
      "metadata": {
        "id": "y-sEcT6dReaE"
      },
      "execution_count": null,
      "outputs": []
    },
    {
      "cell_type": "code",
      "source": [
        "pipeline_nb.fit(X_train,y_train)"
      ],
      "metadata": {
        "colab": {
          "base_uri": "https://localhost:8080/"
        },
        "id": "Q5yJuUQ3RfHx",
        "outputId": "396cf1f2-9193-423e-b85e-7d2211ed968b"
      },
      "execution_count": null,
      "outputs": [
        {
          "output_type": "execute_result",
          "data": {
            "text/plain": [
              "Pipeline(steps=[('Scaling', StandardScaler()), ('nb', GaussianNB())])"
            ]
          },
          "metadata": {},
          "execution_count": 282
        }
      ]
    },
    {
      "cell_type": "code",
      "source": [
        "y_pred = pipeline_nb.predict(X_test)\n",
        "from sklearn.metrics import confusion_matrix,accuracy_score\n",
        "cm = confusion_matrix(y_test,y_pred)\n",
        "print(cm)\n",
        "accuracy_score(y_test,y_pred)*100"
      ],
      "metadata": {
        "colab": {
          "base_uri": "https://localhost:8080/"
        },
        "id": "6AvDwv28RfEw",
        "outputId": "6f1fea24-ecf6-42bd-96f0-189bde969663"
      },
      "execution_count": null,
      "outputs": [
        {
          "output_type": "stream",
          "name": "stdout",
          "text": [
            "[[5049  537]\n",
            " [ 339  405]]\n"
          ]
        },
        {
          "output_type": "execute_result",
          "data": {
            "text/plain": [
              "86.1611374407583"
            ]
          },
          "metadata": {},
          "execution_count": 283
        }
      ]
    },
    {
      "cell_type": "code",
      "source": [
        "acc_scores(pipeline_nb,X_train,y_train)"
      ],
      "metadata": {
        "colab": {
          "base_uri": "https://localhost:8080/"
        },
        "id": "scwJPnMERfAy",
        "outputId": "9278e9db-6d76-452f-b061-619d1cb179b0"
      },
      "execution_count": null,
      "outputs": [
        {
          "output_type": "stream",
          "name": "stdout",
          "text": [
            "scores: [0.86137441 0.84992101 0.83451817 0.84518167 0.84992101 0.85347551\n",
            " 0.84755134 0.85144212 0.85499802 0.85381272]\n",
            "k-fold accuracy:85.02%\n",
            "standard Deviation:0.67%\n"
          ]
        }
      ]
    },
    {
      "cell_type": "markdown",
      "source": [
        "#test data apply "
      ],
      "metadata": {
        "id": "_JD4CQsmTgDN"
      }
    },
    {
      "cell_type": "code",
      "source": [
        "T_data = pd.read_csv(\"/content/drive/MyDrive/Problem Statement (6)/test.csv\")"
      ],
      "metadata": {
        "id": "73m3QKw9Re8t"
      },
      "execution_count": null,
      "outputs": []
    },
    {
      "cell_type": "code",
      "source": [
        "y = data.iloc[:,-1]"
      ],
      "metadata": {
        "id": "I8H83NL2duo7"
      },
      "execution_count": null,
      "outputs": []
    },
    {
      "cell_type": "code",
      "source": [
        "y.shape"
      ],
      "metadata": {
        "colab": {
          "base_uri": "https://localhost:8080/"
        },
        "id": "kQ1RGSR3TzsD",
        "outputId": "fa667c43-d21f-4015-81b4-2836fcbaeb8c"
      },
      "execution_count": null,
      "outputs": [
        {
          "output_type": "execute_result",
          "data": {
            "text/plain": [
              "(31647,)"
            ]
          },
          "metadata": {},
          "execution_count": 289
        }
      ]
    },
    {
      "cell_type": "code",
      "source": [
        "X = T_data"
      ],
      "metadata": {
        "id": "M2aomYpFZLg4"
      },
      "execution_count": null,
      "outputs": []
    },
    {
      "cell_type": "code",
      "source": [
        "X = pd.get_dummies(x)"
      ],
      "metadata": {
        "id": "MfNxg5TkfNyr"
      },
      "execution_count": null,
      "outputs": []
    },
    {
      "cell_type": "code",
      "source": [
        "from sklearn.model_selection import train_test_split\n",
        "X_train,X_test,y_train,y_test = train_test_split(X,y,test_size = 0.2, random_state = 10)\n"
      ],
      "metadata": {
        "id": "Wp5rOVWHfRMy"
      },
      "execution_count": null,
      "outputs": []
    },
    {
      "cell_type": "code",
      "source": [
        "pipeline_lr = Pipeline([('Scaling', StandardScaler()),\n",
        "                        ('lr_classifier',LogisticRegression(random_state=0))])\n",
        "pipeline_dt = Pipeline([('Scaling',StandardScaler()),\n",
        "                        ('dt_classi',DecisionTreeClassifier(random_state= 0, criterion = 'entropy'))])\n",
        "pipeline_rf = Pipeline([('Scaling',StandardScaler()),\n",
        "                        ('rf',RandomForestClassifier(random_state=0,criterion='entropy'))])\n",
        "pipeline_knn = Pipeline([('Scaling',StandardScaler()),\n",
        "                         ('knn',KNeighborsClassifier(n_neighbors= 5, metric = 'minkowski',p=2))])\n",
        "pipeline_svm = Pipeline([('Scaling',StandardScaler()),\n",
        "                         ('svm',SVC(kernel ='rbf',random_state=0))])\n",
        "pipeline_nb = Pipeline([('scaling',StandardScaler()),\n",
        "                        ('nb',GaussianNB())])"
      ],
      "metadata": {
        "id": "yl7K7Z72fXIl"
      },
      "execution_count": null,
      "outputs": []
    },
    {
      "cell_type": "code",
      "source": [
        "full_pipeline = [pipeline_lr,pipeline_dt,pipeline_rf,pipeline_knn,pipeline_svm,pipeline_nb]\n",
        "\n",
        "for i in full_pipeline:\n",
        "  i.fit(X_train,y_train)"
      ],
      "metadata": {
        "id": "_52KjTmUfgKC"
      },
      "execution_count": null,
      "outputs": []
    },
    {
      "cell_type": "code",
      "source": [
        "full_pipeline_str = ['Logistic regression','dession tree','random forest','KNN','SVM','Navie bayse']\n",
        "\n",
        "from sklearn.metrics import confusion_matrix,accuracy_score\n",
        "for i,j in zip(full_pipeline,full_pipeline_str):\n",
        "  y_pred= i.predict(X_test)\n",
        "  print(j,':-')\n",
        "  acc_scores(i,X_train,y_train)\n",
        "  cm= confusion_matrix(y_test,y_pred)\n",
        "  print(cm)\n",
        "  print('Accuracy: {%:.4f}',format(accuracy_score(y_test,y_pred)*100))\n",
        "  print(\"\\n\\n\")"
      ],
      "metadata": {
        "colab": {
          "base_uri": "https://localhost:8080/"
        },
        "id": "qKBr9R8_fjJS",
        "outputId": "65ba1d2e-5a3a-4f09-dc3d-0f14ba695f51"
      },
      "execution_count": null,
      "outputs": [
        {
          "output_type": "stream",
          "name": "stdout",
          "text": [
            "Logistic regression :-\n",
            "scores: [0.90837283 0.90718799 0.90402844 0.8992891  0.90718799 0.89178515\n",
            " 0.90442338 0.8972738  0.90320032 0.90715132]\n",
            "k-fold accuracy:90.30%\n",
            "standard Deviation:0.51%\n",
            "[[5469  117]\n",
            " [ 458  286]]\n",
            "Accuracy: {%:.4f} 90.91627172195894\n",
            "\n",
            "\n",
            "\n",
            "dession tree :-\n",
            "scores: [0.89415482 0.89336493 0.88112164 0.87598736 0.89139021 0.88586098\n",
            " 0.89060032 0.88423548 0.87712367 0.88581588]\n",
            "k-fold accuracy:88.60%\n",
            "standard Deviation:0.61%\n",
            "[[5242  344]\n",
            " [ 355  389]]\n",
            "Accuracy: {%:.4f} 88.95734597156398\n",
            "\n",
            "\n",
            "\n",
            "random forest :-\n",
            "scores: [0.91469194 0.90205371 0.90521327 0.90521327 0.91627172 0.90837283\n",
            " 0.91232227 0.90003951 0.91070723 0.90952193]\n",
            "k-fold accuracy:90.84%\n",
            "standard Deviation:0.50%\n",
            "[[5443  143]\n",
            " [ 424  320]]\n",
            "Accuracy: {%:.4f} 91.04265402843602\n",
            "\n",
            "\n",
            "\n",
            "KNN :-\n",
            "scores: [0.89454976 0.89296998 0.88625592 0.89415482 0.89494471 0.88388626\n",
            " 0.89099526 0.88779139 0.89134729 0.88976689]\n",
            "k-fold accuracy:89.07%\n",
            "standard Deviation:0.35%\n",
            "[[5420  166]\n",
            " [ 504  240]]\n",
            "Accuracy: {%:.4f} 89.41548183254343\n",
            "\n",
            "\n",
            "\n",
            "SVM :-\n",
            "scores: [0.91232227 0.90995261 0.89652449 0.90086888 0.90797788 0.89139021\n",
            " 0.90047393 0.90003951 0.90517582 0.90636112]\n",
            "k-fold accuracy:90.31%\n",
            "standard Deviation:0.61%\n",
            "[[5477  109]\n",
            " [ 474  270]]\n",
            "Accuracy: {%:.4f} 90.78988941548182\n",
            "\n",
            "\n",
            "\n",
            "Navie bayse :-\n",
            "scores: [0.86137441 0.84992101 0.83451817 0.84518167 0.84992101 0.85347551\n",
            " 0.84755134 0.85144212 0.85499802 0.85381272]\n",
            "k-fold accuracy:85.02%\n",
            "standard Deviation:0.67%\n",
            "[[5049  537]\n",
            " [ 339  405]]\n",
            "Accuracy: {%:.4f} 86.1611374407583\n",
            "\n",
            "\n",
            "\n"
          ]
        }
      ]
    },
    {
      "cell_type": "markdown",
      "source": [
        "## Rndo forest best fit\n"
      ],
      "metadata": {
        "id": "mKDup8ZFggTX"
      }
    },
    {
      "cell_type": "markdown",
      "source": [
        "# Predict value on full ds"
      ],
      "metadata": {
        "id": "LnxibpK4f0px"
      }
    },
    {
      "cell_type": "code",
      "source": [
        "y_pred_rd = pipeline_rf.predict(X)"
      ],
      "metadata": {
        "id": "vF9Nguopfz8_"
      },
      "execution_count": null,
      "outputs": []
    },
    {
      "cell_type": "code",
      "source": [
        "Final_df = pd.DataFrame(columns =['ID','Predict_accuracy'])"
      ],
      "metadata": {
        "id": "T-zBxjGkgwh6"
      },
      "execution_count": null,
      "outputs": []
    },
    {
      "cell_type": "code",
      "source": [
        "Final_df['ID']=data['ID']"
      ],
      "metadata": {
        "id": "NlSJteuKhMub"
      },
      "execution_count": null,
      "outputs": []
    },
    {
      "cell_type": "code",
      "source": [
        "Final_df['Predict_accuracy']=y_pred_rd"
      ],
      "metadata": {
        "id": "f9RZ4x2khR1B"
      },
      "execution_count": null,
      "outputs": []
    },
    {
      "cell_type": "code",
      "source": [
        "Final_df"
      ],
      "metadata": {
        "colab": {
          "base_uri": "https://localhost:8080/",
          "height": 423
        },
        "id": "xrCKDnrphfWX",
        "outputId": "47dae74a-c574-47c8-fb72-e5f2efe53c96"
      },
      "execution_count": null,
      "outputs": [
        {
          "output_type": "execute_result",
          "data": {
            "text/plain": [
              "          ID  Predict_accuracy\n",
              "0      26110                 0\n",
              "1      40576                 0\n",
              "2      15320                 0\n",
              "3      43962                 1\n",
              "4      29842                 0\n",
              "...      ...               ...\n",
              "31642  36483                 0\n",
              "31643  40178                 1\n",
              "31644  19710                 0\n",
              "31645  38556                 0\n",
              "31646  14156                 1\n",
              "\n",
              "[31647 rows x 2 columns]"
            ],
            "text/html": [
              "\n",
              "  <div id=\"df-e482cbb1-ad5c-4fe7-977a-5b67ad299ce4\">\n",
              "    <div class=\"colab-df-container\">\n",
              "      <div>\n",
              "<style scoped>\n",
              "    .dataframe tbody tr th:only-of-type {\n",
              "        vertical-align: middle;\n",
              "    }\n",
              "\n",
              "    .dataframe tbody tr th {\n",
              "        vertical-align: top;\n",
              "    }\n",
              "\n",
              "    .dataframe thead th {\n",
              "        text-align: right;\n",
              "    }\n",
              "</style>\n",
              "<table border=\"1\" class=\"dataframe\">\n",
              "  <thead>\n",
              "    <tr style=\"text-align: right;\">\n",
              "      <th></th>\n",
              "      <th>ID</th>\n",
              "      <th>Predict_accuracy</th>\n",
              "    </tr>\n",
              "  </thead>\n",
              "  <tbody>\n",
              "    <tr>\n",
              "      <th>0</th>\n",
              "      <td>26110</td>\n",
              "      <td>0</td>\n",
              "    </tr>\n",
              "    <tr>\n",
              "      <th>1</th>\n",
              "      <td>40576</td>\n",
              "      <td>0</td>\n",
              "    </tr>\n",
              "    <tr>\n",
              "      <th>2</th>\n",
              "      <td>15320</td>\n",
              "      <td>0</td>\n",
              "    </tr>\n",
              "    <tr>\n",
              "      <th>3</th>\n",
              "      <td>43962</td>\n",
              "      <td>1</td>\n",
              "    </tr>\n",
              "    <tr>\n",
              "      <th>4</th>\n",
              "      <td>29842</td>\n",
              "      <td>0</td>\n",
              "    </tr>\n",
              "    <tr>\n",
              "      <th>...</th>\n",
              "      <td>...</td>\n",
              "      <td>...</td>\n",
              "    </tr>\n",
              "    <tr>\n",
              "      <th>31642</th>\n",
              "      <td>36483</td>\n",
              "      <td>0</td>\n",
              "    </tr>\n",
              "    <tr>\n",
              "      <th>31643</th>\n",
              "      <td>40178</td>\n",
              "      <td>1</td>\n",
              "    </tr>\n",
              "    <tr>\n",
              "      <th>31644</th>\n",
              "      <td>19710</td>\n",
              "      <td>0</td>\n",
              "    </tr>\n",
              "    <tr>\n",
              "      <th>31645</th>\n",
              "      <td>38556</td>\n",
              "      <td>0</td>\n",
              "    </tr>\n",
              "    <tr>\n",
              "      <th>31646</th>\n",
              "      <td>14156</td>\n",
              "      <td>1</td>\n",
              "    </tr>\n",
              "  </tbody>\n",
              "</table>\n",
              "<p>31647 rows × 2 columns</p>\n",
              "</div>\n",
              "      <button class=\"colab-df-convert\" onclick=\"convertToInteractive('df-e482cbb1-ad5c-4fe7-977a-5b67ad299ce4')\"\n",
              "              title=\"Convert this dataframe to an interactive table.\"\n",
              "              style=\"display:none;\">\n",
              "        \n",
              "  <svg xmlns=\"http://www.w3.org/2000/svg\" height=\"24px\"viewBox=\"0 0 24 24\"\n",
              "       width=\"24px\">\n",
              "    <path d=\"M0 0h24v24H0V0z\" fill=\"none\"/>\n",
              "    <path d=\"M18.56 5.44l.94 2.06.94-2.06 2.06-.94-2.06-.94-.94-2.06-.94 2.06-2.06.94zm-11 1L8.5 8.5l.94-2.06 2.06-.94-2.06-.94L8.5 2.5l-.94 2.06-2.06.94zm10 10l.94 2.06.94-2.06 2.06-.94-2.06-.94-.94-2.06-.94 2.06-2.06.94z\"/><path d=\"M17.41 7.96l-1.37-1.37c-.4-.4-.92-.59-1.43-.59-.52 0-1.04.2-1.43.59L10.3 9.45l-7.72 7.72c-.78.78-.78 2.05 0 2.83L4 21.41c.39.39.9.59 1.41.59.51 0 1.02-.2 1.41-.59l7.78-7.78 2.81-2.81c.8-.78.8-2.07 0-2.86zM5.41 20L4 18.59l7.72-7.72 1.47 1.35L5.41 20z\"/>\n",
              "  </svg>\n",
              "      </button>\n",
              "      \n",
              "  <style>\n",
              "    .colab-df-container {\n",
              "      display:flex;\n",
              "      flex-wrap:wrap;\n",
              "      gap: 12px;\n",
              "    }\n",
              "\n",
              "    .colab-df-convert {\n",
              "      background-color: #E8F0FE;\n",
              "      border: none;\n",
              "      border-radius: 50%;\n",
              "      cursor: pointer;\n",
              "      display: none;\n",
              "      fill: #1967D2;\n",
              "      height: 32px;\n",
              "      padding: 0 0 0 0;\n",
              "      width: 32px;\n",
              "    }\n",
              "\n",
              "    .colab-df-convert:hover {\n",
              "      background-color: #E2EBFA;\n",
              "      box-shadow: 0px 1px 2px rgba(60, 64, 67, 0.3), 0px 1px 3px 1px rgba(60, 64, 67, 0.15);\n",
              "      fill: #174EA6;\n",
              "    }\n",
              "\n",
              "    [theme=dark] .colab-df-convert {\n",
              "      background-color: #3B4455;\n",
              "      fill: #D2E3FC;\n",
              "    }\n",
              "\n",
              "    [theme=dark] .colab-df-convert:hover {\n",
              "      background-color: #434B5C;\n",
              "      box-shadow: 0px 1px 3px 1px rgba(0, 0, 0, 0.15);\n",
              "      filter: drop-shadow(0px 1px 2px rgba(0, 0, 0, 0.3));\n",
              "      fill: #FFFFFF;\n",
              "    }\n",
              "  </style>\n",
              "\n",
              "      <script>\n",
              "        const buttonEl =\n",
              "          document.querySelector('#df-e482cbb1-ad5c-4fe7-977a-5b67ad299ce4 button.colab-df-convert');\n",
              "        buttonEl.style.display =\n",
              "          google.colab.kernel.accessAllowed ? 'block' : 'none';\n",
              "\n",
              "        async function convertToInteractive(key) {\n",
              "          const element = document.querySelector('#df-e482cbb1-ad5c-4fe7-977a-5b67ad299ce4');\n",
              "          const dataTable =\n",
              "            await google.colab.kernel.invokeFunction('convertToInteractive',\n",
              "                                                     [key], {});\n",
              "          if (!dataTable) return;\n",
              "\n",
              "          const docLinkHtml = 'Like what you see? Visit the ' +\n",
              "            '<a target=\"_blank\" href=https://colab.research.google.com/notebooks/data_table.ipynb>data table notebook</a>'\n",
              "            + ' to learn more about interactive tables.';\n",
              "          element.innerHTML = '';\n",
              "          dataTable['output_type'] = 'display_data';\n",
              "          await google.colab.output.renderOutput(dataTable, element);\n",
              "          const docLink = document.createElement('div');\n",
              "          docLink.innerHTML = docLinkHtml;\n",
              "          element.appendChild(docLink);\n",
              "        }\n",
              "      </script>\n",
              "    </div>\n",
              "  </div>\n",
              "  "
            ]
          },
          "metadata": {},
          "execution_count": 311
        }
      ]
    },
    {
      "cell_type": "code",
      "source": [
        "Final_df['Predict_accuracy'].replace(0,'no',inplace =True)\n",
        "Final_df['Predict_accuracy'].replace(1,'yes',inplace =True)"
      ],
      "metadata": {
        "id": "MnZM-qIMhz-4"
      },
      "execution_count": null,
      "outputs": []
    },
    {
      "cell_type": "code",
      "source": [
        "Final_df"
      ],
      "metadata": {
        "colab": {
          "base_uri": "https://localhost:8080/",
          "height": 423
        },
        "id": "w7mcp1hwiYnK",
        "outputId": "c3d31279-af33-4cc9-c124-76ab7e558077"
      },
      "execution_count": null,
      "outputs": [
        {
          "output_type": "execute_result",
          "data": {
            "text/plain": [
              "          ID Predict_accuracy\n",
              "0      26110               no\n",
              "1      40576               no\n",
              "2      15320               no\n",
              "3      43962              yes\n",
              "4      29842               no\n",
              "...      ...              ...\n",
              "31642  36483               no\n",
              "31643  40178              yes\n",
              "31644  19710               no\n",
              "31645  38556               no\n",
              "31646  14156              yes\n",
              "\n",
              "[31647 rows x 2 columns]"
            ],
            "text/html": [
              "\n",
              "  <div id=\"df-a4da0527-3c89-48f5-888f-8b26e2e1088e\">\n",
              "    <div class=\"colab-df-container\">\n",
              "      <div>\n",
              "<style scoped>\n",
              "    .dataframe tbody tr th:only-of-type {\n",
              "        vertical-align: middle;\n",
              "    }\n",
              "\n",
              "    .dataframe tbody tr th {\n",
              "        vertical-align: top;\n",
              "    }\n",
              "\n",
              "    .dataframe thead th {\n",
              "        text-align: right;\n",
              "    }\n",
              "</style>\n",
              "<table border=\"1\" class=\"dataframe\">\n",
              "  <thead>\n",
              "    <tr style=\"text-align: right;\">\n",
              "      <th></th>\n",
              "      <th>ID</th>\n",
              "      <th>Predict_accuracy</th>\n",
              "    </tr>\n",
              "  </thead>\n",
              "  <tbody>\n",
              "    <tr>\n",
              "      <th>0</th>\n",
              "      <td>26110</td>\n",
              "      <td>no</td>\n",
              "    </tr>\n",
              "    <tr>\n",
              "      <th>1</th>\n",
              "      <td>40576</td>\n",
              "      <td>no</td>\n",
              "    </tr>\n",
              "    <tr>\n",
              "      <th>2</th>\n",
              "      <td>15320</td>\n",
              "      <td>no</td>\n",
              "    </tr>\n",
              "    <tr>\n",
              "      <th>3</th>\n",
              "      <td>43962</td>\n",
              "      <td>yes</td>\n",
              "    </tr>\n",
              "    <tr>\n",
              "      <th>4</th>\n",
              "      <td>29842</td>\n",
              "      <td>no</td>\n",
              "    </tr>\n",
              "    <tr>\n",
              "      <th>...</th>\n",
              "      <td>...</td>\n",
              "      <td>...</td>\n",
              "    </tr>\n",
              "    <tr>\n",
              "      <th>31642</th>\n",
              "      <td>36483</td>\n",
              "      <td>no</td>\n",
              "    </tr>\n",
              "    <tr>\n",
              "      <th>31643</th>\n",
              "      <td>40178</td>\n",
              "      <td>yes</td>\n",
              "    </tr>\n",
              "    <tr>\n",
              "      <th>31644</th>\n",
              "      <td>19710</td>\n",
              "      <td>no</td>\n",
              "    </tr>\n",
              "    <tr>\n",
              "      <th>31645</th>\n",
              "      <td>38556</td>\n",
              "      <td>no</td>\n",
              "    </tr>\n",
              "    <tr>\n",
              "      <th>31646</th>\n",
              "      <td>14156</td>\n",
              "      <td>yes</td>\n",
              "    </tr>\n",
              "  </tbody>\n",
              "</table>\n",
              "<p>31647 rows × 2 columns</p>\n",
              "</div>\n",
              "      <button class=\"colab-df-convert\" onclick=\"convertToInteractive('df-a4da0527-3c89-48f5-888f-8b26e2e1088e')\"\n",
              "              title=\"Convert this dataframe to an interactive table.\"\n",
              "              style=\"display:none;\">\n",
              "        \n",
              "  <svg xmlns=\"http://www.w3.org/2000/svg\" height=\"24px\"viewBox=\"0 0 24 24\"\n",
              "       width=\"24px\">\n",
              "    <path d=\"M0 0h24v24H0V0z\" fill=\"none\"/>\n",
              "    <path d=\"M18.56 5.44l.94 2.06.94-2.06 2.06-.94-2.06-.94-.94-2.06-.94 2.06-2.06.94zm-11 1L8.5 8.5l.94-2.06 2.06-.94-2.06-.94L8.5 2.5l-.94 2.06-2.06.94zm10 10l.94 2.06.94-2.06 2.06-.94-2.06-.94-.94-2.06-.94 2.06-2.06.94z\"/><path d=\"M17.41 7.96l-1.37-1.37c-.4-.4-.92-.59-1.43-.59-.52 0-1.04.2-1.43.59L10.3 9.45l-7.72 7.72c-.78.78-.78 2.05 0 2.83L4 21.41c.39.39.9.59 1.41.59.51 0 1.02-.2 1.41-.59l7.78-7.78 2.81-2.81c.8-.78.8-2.07 0-2.86zM5.41 20L4 18.59l7.72-7.72 1.47 1.35L5.41 20z\"/>\n",
              "  </svg>\n",
              "      </button>\n",
              "      \n",
              "  <style>\n",
              "    .colab-df-container {\n",
              "      display:flex;\n",
              "      flex-wrap:wrap;\n",
              "      gap: 12px;\n",
              "    }\n",
              "\n",
              "    .colab-df-convert {\n",
              "      background-color: #E8F0FE;\n",
              "      border: none;\n",
              "      border-radius: 50%;\n",
              "      cursor: pointer;\n",
              "      display: none;\n",
              "      fill: #1967D2;\n",
              "      height: 32px;\n",
              "      padding: 0 0 0 0;\n",
              "      width: 32px;\n",
              "    }\n",
              "\n",
              "    .colab-df-convert:hover {\n",
              "      background-color: #E2EBFA;\n",
              "      box-shadow: 0px 1px 2px rgba(60, 64, 67, 0.3), 0px 1px 3px 1px rgba(60, 64, 67, 0.15);\n",
              "      fill: #174EA6;\n",
              "    }\n",
              "\n",
              "    [theme=dark] .colab-df-convert {\n",
              "      background-color: #3B4455;\n",
              "      fill: #D2E3FC;\n",
              "    }\n",
              "\n",
              "    [theme=dark] .colab-df-convert:hover {\n",
              "      background-color: #434B5C;\n",
              "      box-shadow: 0px 1px 3px 1px rgba(0, 0, 0, 0.15);\n",
              "      filter: drop-shadow(0px 1px 2px rgba(0, 0, 0, 0.3));\n",
              "      fill: #FFFFFF;\n",
              "    }\n",
              "  </style>\n",
              "\n",
              "      <script>\n",
              "        const buttonEl =\n",
              "          document.querySelector('#df-a4da0527-3c89-48f5-888f-8b26e2e1088e button.colab-df-convert');\n",
              "        buttonEl.style.display =\n",
              "          google.colab.kernel.accessAllowed ? 'block' : 'none';\n",
              "\n",
              "        async function convertToInteractive(key) {\n",
              "          const element = document.querySelector('#df-a4da0527-3c89-48f5-888f-8b26e2e1088e');\n",
              "          const dataTable =\n",
              "            await google.colab.kernel.invokeFunction('convertToInteractive',\n",
              "                                                     [key], {});\n",
              "          if (!dataTable) return;\n",
              "\n",
              "          const docLinkHtml = 'Like what you see? Visit the ' +\n",
              "            '<a target=\"_blank\" href=https://colab.research.google.com/notebooks/data_table.ipynb>data table notebook</a>'\n",
              "            + ' to learn more about interactive tables.';\n",
              "          element.innerHTML = '';\n",
              "          dataTable['output_type'] = 'display_data';\n",
              "          await google.colab.output.renderOutput(dataTable, element);\n",
              "          const docLink = document.createElement('div');\n",
              "          docLink.innerHTML = docLinkHtml;\n",
              "          element.appendChild(docLink);\n",
              "        }\n",
              "      </script>\n",
              "    </div>\n",
              "  </div>\n",
              "  "
            ]
          },
          "metadata": {},
          "execution_count": 314
        }
      ]
    },
    {
      "cell_type": "markdown",
      "source": [
        "#Export data frame"
      ],
      "metadata": {
        "id": "f_ajBxgFkqGS"
      }
    },
    {
      "cell_type": "code",
      "source": [
        "Final_df.to_csv('Predict_Accuracy')"
      ],
      "metadata": {
        "id": "JVguILgtiZg1"
      },
      "execution_count": null,
      "outputs": []
    },
    {
      "cell_type": "code",
      "source": [
        "predict_ac = pd.ExcelWriter('ACCURACY.xlsx')\n",
        "Final_df.to_excel(predict_ac)\n",
        "predict_ac.save()"
      ],
      "metadata": {
        "id": "ZivBrujxoOF4"
      },
      "execution_count": null,
      "outputs": []
    }
  ]
}